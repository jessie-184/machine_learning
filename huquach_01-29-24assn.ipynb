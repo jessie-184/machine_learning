{
 "cells": [
  {
   "cell_type": "code",
   "execution_count": 20,
   "id": "6cdabfcd-748e-4c9a-bb9a-f5adbd3e7cfe",
   "metadata": {},
   "outputs": [],
   "source": [
    "import re\n",
    "import string"
   ]
  },
  {
   "cell_type": "code",
   "execution_count": 4,
   "id": "9fa4fc0f-ddd2-4a1b-ae61-3cf00576ee45",
   "metadata": {},
   "outputs": [
    {
     "data": {
      "text/plain": [
       "\"This is my text, and it contains the numbers 123 and 456. This is the second sentence in my text. And this isn't the second sentence.\""
      ]
     },
     "execution_count": 4,
     "metadata": {},
     "output_type": "execute_result"
    }
   ],
   "source": [
    "mytext = \"This is my text, and it contains the numbers 123 and 456. \" \\\n",
    "         \"This is the second sentence in my text. And this isn't the second sentence.\"\n",
    "mytext"
   ]
  },
  {
   "cell_type": "markdown",
   "id": "4066feee-bad5-437e-ac80-26270fecae6b",
   "metadata": {},
   "source": [
    "#### Question 1:"
   ]
  },
  {
   "cell_type": "code",
   "execution_count": 8,
   "id": "a708e1d3-5cdc-4897-8667-1462b81301b3",
   "metadata": {},
   "outputs": [
    {
     "name": "stdout",
     "output_type": "stream",
     "text": [
      "Number of characters: 133\n"
     ]
    }
   ],
   "source": [
    "print(\"Number of characters:\", len(mytext))"
   ]
  },
  {
   "cell_type": "markdown",
   "id": "9587188e-e0a3-4fc1-ad15-de1ec40545dc",
   "metadata": {},
   "source": [
    "#### Question 2:"
   ]
  },
  {
   "cell_type": "code",
   "execution_count": 10,
   "id": "b85c4902-00f4-450c-ab2c-f6c65dddf278",
   "metadata": {},
   "outputs": [
    {
     "name": "stdout",
     "output_type": "stream",
     "text": [
      "Number of times the substring 'is' appears: 6\n"
     ]
    }
   ],
   "source": [
    "print(\"Number of times the substring 'is' appears:\", mytext.count(\"is\"))"
   ]
  },
  {
   "cell_type": "markdown",
   "id": "c39034b4-4c07-45db-aeb0-f8d8f2f45f3b",
   "metadata": {},
   "source": [
    "#### Question 3:"
   ]
  },
  {
   "cell_type": "code",
   "execution_count": 34,
   "id": "d519e520-ba75-46b0-a6e7-8ba229010463",
   "metadata": {},
   "outputs": [
    {
     "name": "stdout",
     "output_type": "stream",
     "text": [
      "String without capitals and punctuation:\n",
      "\n",
      "this is my text and it contains the numbers 123 and 456 this is the second sentence in my text and this isnt the second sentence\n"
     ]
    }
   ],
   "source": [
    "newtext1 = re.sub(\"\\.|,|'\",'',mytext.lower())\n",
    "print(\"String without capitals and punctuation:\")\n",
    "print()\n",
    "print(newtext1)"
   ]
  },
  {
   "cell_type": "code",
   "execution_count": 36,
   "id": "e612553f-3bc4-4612-b2ea-98047c7396b0",
   "metadata": {},
   "outputs": [
    {
     "name": "stdout",
     "output_type": "stream",
     "text": [
      "String without capitals and punctuation:\n",
      "\n",
      "this is my text and it contains the numbers 123 and 456 this is the second sentence in my text and this isnt the second sentence\n"
     ]
    }
   ],
   "source": [
    "newtext2 = mytext.lower().translate(str.maketrans('', '', string.punctuation))\n",
    "print(\"String without capitals and punctuation:\")\n",
    "print()\n",
    "print(newtext2)"
   ]
  },
  {
   "cell_type": "markdown",
   "id": "2f309e1b-3830-44de-9c45-effbcac40c9d",
   "metadata": {},
   "source": [
    "#### Question 3:"
   ]
  },
  {
   "cell_type": "code",
   "execution_count": 27,
   "id": "1b9b7afc-fcc7-48b0-a5df-77af4c1c643a",
   "metadata": {},
   "outputs": [
    {
     "data": {
      "text/plain": [
       "['this',\n",
       " 'is',\n",
       " 'my',\n",
       " 'text',\n",
       " 'and',\n",
       " 'it',\n",
       " 'contains',\n",
       " 'the',\n",
       " 'numbers',\n",
       " '123',\n",
       " 'and',\n",
       " '456',\n",
       " 'this',\n",
       " 'is',\n",
       " 'the',\n",
       " 'second',\n",
       " 'sentence',\n",
       " 'in',\n",
       " 'my',\n",
       " 'text',\n",
       " 'and',\n",
       " 'this',\n",
       " 'isnt',\n",
       " 'the',\n",
       " 'second',\n",
       " 'sentence']"
      ]
     },
     "execution_count": 27,
     "metadata": {},
     "output_type": "execute_result"
    }
   ],
   "source": [
    "words = newtext1.split(' ')\n",
    "words"
   ]
  },
  {
   "cell_type": "markdown",
   "id": "3a06a0e0-b43a-41a4-937a-aec1e5bf75d9",
   "metadata": {},
   "source": [
    "#### Question 5:"
   ]
  },
  {
   "cell_type": "code",
   "execution_count": 29,
   "id": "1fbac69a-649f-4548-a041-55a49301c3e4",
   "metadata": {},
   "outputs": [
    {
     "name": "stdout",
     "output_type": "stream",
     "text": [
      "Number of times the word 'is' appears: 2\n"
     ]
    }
   ],
   "source": [
    "print(\"Number of times the word 'is' appears:\", words.count(\"is\"))"
   ]
  },
  {
   "cell_type": "markdown",
   "id": "375e873a-26df-4889-a929-a94e5a4f3f66",
   "metadata": {},
   "source": [
    "#### Question 6:"
   ]
  },
  {
   "cell_type": "code",
   "execution_count": 30,
   "id": "761af781-13ed-439e-b7e9-03d0beb0c082",
   "metadata": {},
   "outputs": [
    {
     "name": "stdout",
     "output_type": "stream",
     "text": [
      "Numbers in the string: ['123', '456']\n"
     ]
    }
   ],
   "source": [
    "numbers = re.findall(r\"\\d+\", mytext)\n",
    "print(\"Numbers in the string:\", numbers)"
   ]
  }
 ],
 "metadata": {
  "kernelspec": {
   "display_name": "Python 3 (ipykernel)",
   "language": "python",
   "name": "python3"
  },
  "language_info": {
   "codemirror_mode": {
    "name": "ipython",
    "version": 3
   },
   "file_extension": ".py",
   "mimetype": "text/x-python",
   "name": "python",
   "nbconvert_exporter": "python",
   "pygments_lexer": "ipython3",
   "version": "3.10.9"
  }
 },
 "nbformat": 4,
 "nbformat_minor": 5
}
