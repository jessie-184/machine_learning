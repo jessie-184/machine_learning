{
 "cells": [
  {
   "cell_type": "code",
   "execution_count": 41,
   "id": "3af44571-9bcf-47e9-9552-b47a9352376c",
   "metadata": {
    "scrolled": true
   },
   "outputs": [
    {
     "data": {
      "text/html": [
       "<div>\n",
       "<style scoped>\n",
       "    .dataframe tbody tr th:only-of-type {\n",
       "        vertical-align: middle;\n",
       "    }\n",
       "\n",
       "    .dataframe tbody tr th {\n",
       "        vertical-align: top;\n",
       "    }\n",
       "\n",
       "    .dataframe thead th {\n",
       "        text-align: right;\n",
       "    }\n",
       "</style>\n",
       "<table border=\"1\" class=\"dataframe\">\n",
       "  <thead>\n",
       "    <tr style=\"text-align: right;\">\n",
       "      <th></th>\n",
       "      <th>LOCATION</th>\n",
       "      <th>INDICATOR</th>\n",
       "      <th>SUBJECT</th>\n",
       "      <th>MEASURE</th>\n",
       "      <th>FREQUENCY</th>\n",
       "      <th>TIME</th>\n",
       "      <th>Value</th>\n",
       "      <th>Flag Codes</th>\n",
       "    </tr>\n",
       "  </thead>\n",
       "  <tbody>\n",
       "    <tr>\n",
       "      <th>0</th>\n",
       "      <td>AUS</td>\n",
       "      <td>CROPYIELD</td>\n",
       "      <td>RICE</td>\n",
       "      <td>TONNE_HA</td>\n",
       "      <td>A</td>\n",
       "      <td>1990</td>\n",
       "      <td>8.315</td>\n",
       "      <td>NaN</td>\n",
       "    </tr>\n",
       "    <tr>\n",
       "      <th>1</th>\n",
       "      <td>AUS</td>\n",
       "      <td>CROPYIELD</td>\n",
       "      <td>RICE</td>\n",
       "      <td>TONNE_HA</td>\n",
       "      <td>A</td>\n",
       "      <td>1991</td>\n",
       "      <td>8.395</td>\n",
       "      <td>NaN</td>\n",
       "    </tr>\n",
       "    <tr>\n",
       "      <th>2</th>\n",
       "      <td>AUS</td>\n",
       "      <td>CROPYIELD</td>\n",
       "      <td>RICE</td>\n",
       "      <td>TONNE_HA</td>\n",
       "      <td>A</td>\n",
       "      <td>1992</td>\n",
       "      <td>8.094</td>\n",
       "      <td>NaN</td>\n",
       "    </tr>\n",
       "    <tr>\n",
       "      <th>3</th>\n",
       "      <td>AUS</td>\n",
       "      <td>CROPYIELD</td>\n",
       "      <td>RICE</td>\n",
       "      <td>TONNE_HA</td>\n",
       "      <td>A</td>\n",
       "      <td>1993</td>\n",
       "      <td>8.336</td>\n",
       "      <td>NaN</td>\n",
       "    </tr>\n",
       "    <tr>\n",
       "      <th>4</th>\n",
       "      <td>AUS</td>\n",
       "      <td>CROPYIELD</td>\n",
       "      <td>RICE</td>\n",
       "      <td>TONNE_HA</td>\n",
       "      <td>A</td>\n",
       "      <td>1994</td>\n",
       "      <td>8.538</td>\n",
       "      <td>NaN</td>\n",
       "    </tr>\n",
       "    <tr>\n",
       "      <th>...</th>\n",
       "      <td>...</td>\n",
       "      <td>...</td>\n",
       "      <td>...</td>\n",
       "      <td>...</td>\n",
       "      <td>...</td>\n",
       "      <td>...</td>\n",
       "      <td>...</td>\n",
       "      <td>...</td>\n",
       "    </tr>\n",
       "    <tr>\n",
       "      <th>18671</th>\n",
       "      <td>GBR</td>\n",
       "      <td>CROPYIELD</td>\n",
       "      <td>SOYBEAN</td>\n",
       "      <td>THND_HA</td>\n",
       "      <td>A</td>\n",
       "      <td>2026</td>\n",
       "      <td>0.000</td>\n",
       "      <td>NaN</td>\n",
       "    </tr>\n",
       "    <tr>\n",
       "      <th>18672</th>\n",
       "      <td>GBR</td>\n",
       "      <td>CROPYIELD</td>\n",
       "      <td>SOYBEAN</td>\n",
       "      <td>THND_HA</td>\n",
       "      <td>A</td>\n",
       "      <td>2027</td>\n",
       "      <td>0.000</td>\n",
       "      <td>NaN</td>\n",
       "    </tr>\n",
       "    <tr>\n",
       "      <th>18673</th>\n",
       "      <td>GBR</td>\n",
       "      <td>CROPYIELD</td>\n",
       "      <td>SOYBEAN</td>\n",
       "      <td>THND_HA</td>\n",
       "      <td>A</td>\n",
       "      <td>2028</td>\n",
       "      <td>0.000</td>\n",
       "      <td>NaN</td>\n",
       "    </tr>\n",
       "    <tr>\n",
       "      <th>18674</th>\n",
       "      <td>GBR</td>\n",
       "      <td>CROPYIELD</td>\n",
       "      <td>SOYBEAN</td>\n",
       "      <td>THND_HA</td>\n",
       "      <td>A</td>\n",
       "      <td>2029</td>\n",
       "      <td>0.000</td>\n",
       "      <td>NaN</td>\n",
       "    </tr>\n",
       "    <tr>\n",
       "      <th>18675</th>\n",
       "      <td>GBR</td>\n",
       "      <td>CROPYIELD</td>\n",
       "      <td>SOYBEAN</td>\n",
       "      <td>THND_HA</td>\n",
       "      <td>A</td>\n",
       "      <td>2030</td>\n",
       "      <td>0.000</td>\n",
       "      <td>NaN</td>\n",
       "    </tr>\n",
       "  </tbody>\n",
       "</table>\n",
       "<p>18676 rows × 8 columns</p>\n",
       "</div>"
      ],
      "text/plain": [
       "      LOCATION  INDICATOR  SUBJECT   MEASURE FREQUENCY  TIME  Value  \\\n",
       "0          AUS  CROPYIELD     RICE  TONNE_HA         A  1990  8.315   \n",
       "1          AUS  CROPYIELD     RICE  TONNE_HA         A  1991  8.395   \n",
       "2          AUS  CROPYIELD     RICE  TONNE_HA         A  1992  8.094   \n",
       "3          AUS  CROPYIELD     RICE  TONNE_HA         A  1993  8.336   \n",
       "4          AUS  CROPYIELD     RICE  TONNE_HA         A  1994  8.538   \n",
       "...        ...        ...      ...       ...       ...   ...    ...   \n",
       "18671      GBR  CROPYIELD  SOYBEAN   THND_HA         A  2026  0.000   \n",
       "18672      GBR  CROPYIELD  SOYBEAN   THND_HA         A  2027  0.000   \n",
       "18673      GBR  CROPYIELD  SOYBEAN   THND_HA         A  2028  0.000   \n",
       "18674      GBR  CROPYIELD  SOYBEAN   THND_HA         A  2029  0.000   \n",
       "18675      GBR  CROPYIELD  SOYBEAN   THND_HA         A  2030  0.000   \n",
       "\n",
       "       Flag Codes  \n",
       "0             NaN  \n",
       "1             NaN  \n",
       "2             NaN  \n",
       "3             NaN  \n",
       "4             NaN  \n",
       "...           ...  \n",
       "18671         NaN  \n",
       "18672         NaN  \n",
       "18673         NaN  \n",
       "18674         NaN  \n",
       "18675         NaN  \n",
       "\n",
       "[18676 rows x 8 columns]"
      ]
     },
     "execution_count": 41,
     "metadata": {},
     "output_type": "execute_result"
    }
   ],
   "source": [
    "import pandas as pd\n",
    "mydata = pd.read_csv(\"https://raw.githubusercontent.com/aleahy-work/CS-STAT323-W24/main/cropyields.csv\")\n",
    "pd.read_csv(\"https://raw.githubusercontent.com/aleahy-work/CS-STAT323-W24/main/cropyields.csv\") "
   ]
  },
  {
   "cell_type": "markdown",
   "id": "42c307e1-464a-468f-a707-99eb9366752f",
   "metadata": {},
   "source": [
    "### Problem 1"
   ]
  },
  {
   "cell_type": "code",
   "execution_count": 8,
   "id": "9d946409-7c9f-4325-8eb8-072a35db883d",
   "metadata": {},
   "outputs": [
    {
     "data": {
      "text/plain": [
       "array(['RICE', 'WHEAT', 'MAIZE', 'SOYBEAN'], dtype=object)"
      ]
     },
     "execution_count": 8,
     "metadata": {},
     "output_type": "execute_result"
    }
   ],
   "source": [
    "mydata[\"SUBJECT\"].unique()"
   ]
  },
  {
   "cell_type": "code",
   "execution_count": 9,
   "id": "eb00b17e-08b7-4006-a34b-f06d33023092",
   "metadata": {},
   "outputs": [
    {
     "data": {
      "text/plain": [
       "array([1990, 1991, 1992, 1993, 1994, 1995, 1996, 1997, 1998, 1999, 2000,\n",
       "       2001, 2002, 2003, 2004, 2005, 2006, 2007, 2008, 2009, 2010, 2011,\n",
       "       2012, 2013, 2014, 2015, 2016, 2017, 2018, 2019, 2020, 2021, 2022,\n",
       "       2023, 2024, 2025, 2026, 2027, 2028, 2029, 2030])"
      ]
     },
     "execution_count": 9,
     "metadata": {},
     "output_type": "execute_result"
    }
   ],
   "source": [
    "mydata[\"TIME\"].unique()"
   ]
  },
  {
   "cell_type": "markdown",
   "id": "b8942b77-1813-4ec4-a228-ed3a2a0d7c21",
   "metadata": {},
   "source": [
    "### Problem 2"
   ]
  },
  {
   "cell_type": "markdown",
   "id": "9a9f8487-fdf6-4207-8d04-a0845ad3367a",
   "metadata": {},
   "source": [
    "Plotting histogram using two different libraries (pandas and matlibplot) give very similar results as showing below. The significant difference between two options is the syntax."
   ]
  },
  {
   "cell_type": "code",
   "execution_count": 55,
   "id": "7eaeb387-6d98-44a4-a689-0bbc2e87934e",
   "metadata": {},
   "outputs": [],
   "source": [
    "import matplotlib.pyplot as plt"
   ]
  },
  {
   "cell_type": "code",
   "execution_count": 61,
   "id": "f882c291-6364-4a11-a72f-17082b5b320e",
   "metadata": {},
   "outputs": [
    {
     "data": {
      "image/png": "[encoded data removed]",
      "text/plain": [
       "<Figure size 432x288 with 1 Axes>"
      ]
     },
     "metadata": {
      "needs_background": "light"
     },
     "output_type": "display_data"
    }
   ],
   "source": [
    "mydata2 = mydata[mydata[\"TIME\"] == 1990]['Value']\n",
    "plt.hist(mydata2)\n",
    "plt.xlabel(\"Crop Production\")\n",
    "plt.ylabel(\"Frequency\")\n",
    "plt.title(\"Crop Production Distribution in 1990\")\n",
    "plt.show()"
   ]
  },
  {
   "cell_type": "code",
   "execution_count": 60,
   "id": "c183db91-c16f-4146-abda-06a2a21a3e12",
   "metadata": {},
   "outputs": [
    {
     "data": {
      "text/plain": [
       "[Text(0.5, 0, 'Crop Production'),\n",
       " Text(0.5, 1.0, 'Crop Production Distribution in 1990')]"
      ]
     },
     "execution_count": 60,
     "metadata": {},
     "output_type": "execute_result"
    },
    {
     "data": {
      "image/png": "[encoded data removed]",
      "text/plain": [
       "<Figure size 432x288 with 1 Axes>"
      ]
     },
     "metadata": {
      "needs_background": "light"
     },
     "output_type": "display_data"
    }
   ],
   "source": [
    "myplot = mydata2.plot.hist()\n",
    "myplot.set(xlabel=\"Crop Production\", title=\"Crop Production Distribution in 1990\")"
   ]
  },
  {
   "cell_type": "markdown",
   "id": "2cf26928-7dc8-49ae-8da2-c9e2bd01e2e8",
   "metadata": {},
   "source": [
    "### Problem 3"
   ]
  },
  {
   "cell_type": "code",
   "execution_count": 28,
   "id": "75f4307e-9844-430d-9450-72f7c08aaa32",
   "metadata": {},
   "outputs": [
    {
     "data": {
      "text/plain": [
       "array(['TONNE_HA', 'THND_TONNE', 'THND_HA'], dtype=object)"
      ]
     },
     "execution_count": 28,
     "metadata": {},
     "output_type": "execute_result"
    }
   ],
   "source": [
    "mydata[mydata[\"TIME\"] == 1990]['MEASURE'].unique()"
   ]
  },
  {
   "cell_type": "code",
   "execution_count": 58,
   "id": "a3cb1bec-6483-404d-8620-d303ee04fd40",
   "metadata": {},
   "outputs": [
    {
     "data": {
      "image/png": "[encoded data removed]",
      "text/plain": [
       "<Figure size 432x288 with 1 Axes>"
      ]
     },
     "metadata": {
      "needs_background": "light"
     },
     "output_type": "display_data"
    }
   ],
   "source": [
    "mydata3 = mydata[mydata[\"TIME\"] == 1990]['MEASURE']\n",
    "plt.hist(mydata3)\n",
    "plt.xlabel(\"Measure\")\n",
    "plt.ylabel(\"Frequency\")\n",
    "plt.title(\"Frequency Distribution of Measures in 1990\")\n",
    "plt.show()"
   ]
  },
  {
   "cell_type": "code",
   "execution_count": 57,
   "id": "00f51164-2f99-45d7-9622-ae0e4cf386d7",
   "metadata": {},
   "outputs": [
    {
     "data": {
      "text/plain": [
       "THND_TONNE    152\n",
       "THND_HA       152\n",
       "TONNE_HA      151\n",
       "Name: MEASURE, dtype: int64"
      ]
     },
     "execution_count": 57,
     "metadata": {},
     "output_type": "execute_result"
    }
   ],
   "source": [
    "pd.value_counts(mydata3)"
   ]
  },
  {
   "cell_type": "markdown",
   "id": "70e314ac-5a97-4786-b9ff-badbf0605007",
   "metadata": {},
   "source": [
    "There are currently three different measures which are used to show the crop production. This fact helps explain why there are some significant outliers in te plot. It makes more sense to measure the **crop production** in **tonnes per hectare** rather than in thousand hectares or thousand tonnes."
   ]
  },
  {
   "cell_type": "code",
   "execution_count": 82,
   "id": "98e60913-64fa-4744-9385-1c4f99b7ac42",
   "metadata": {},
   "outputs": [
    {
     "data": {
      "text/html": [
       "<div>\n",
       "<style scoped>\n",
       "    .dataframe tbody tr th:only-of-type {\n",
       "        vertical-align: middle;\n",
       "    }\n",
       "\n",
       "    .dataframe tbody tr th {\n",
       "        vertical-align: top;\n",
       "    }\n",
       "\n",
       "    .dataframe thead th {\n",
       "        text-align: right;\n",
       "    }\n",
       "</style>\n",
       "<table border=\"1\" class=\"dataframe\">\n",
       "  <thead>\n",
       "    <tr style=\"text-align: right;\">\n",
       "      <th></th>\n",
       "      <th>LOCATION</th>\n",
       "      <th>INDICATOR</th>\n",
       "      <th>SUBJECT</th>\n",
       "      <th>MEASURE</th>\n",
       "      <th>FREQUENCY</th>\n",
       "      <th>TIME</th>\n",
       "      <th>Value</th>\n",
       "      <th>Flag Codes</th>\n",
       "    </tr>\n",
       "  </thead>\n",
       "  <tbody>\n",
       "    <tr>\n",
       "      <th>0</th>\n",
       "      <td>AUS</td>\n",
       "      <td>CROPYIELD</td>\n",
       "      <td>RICE</td>\n",
       "      <td>TONNE_HA</td>\n",
       "      <td>A</td>\n",
       "      <td>1990</td>\n",
       "      <td>8.315</td>\n",
       "      <td>NaN</td>\n",
       "    </tr>\n",
       "    <tr>\n",
       "      <th>1</th>\n",
       "      <td>AUS</td>\n",
       "      <td>CROPYIELD</td>\n",
       "      <td>RICE</td>\n",
       "      <td>TONNE_HA</td>\n",
       "      <td>A</td>\n",
       "      <td>1991</td>\n",
       "      <td>8.395</td>\n",
       "      <td>NaN</td>\n",
       "    </tr>\n",
       "    <tr>\n",
       "      <th>2</th>\n",
       "      <td>AUS</td>\n",
       "      <td>CROPYIELD</td>\n",
       "      <td>RICE</td>\n",
       "      <td>TONNE_HA</td>\n",
       "      <td>A</td>\n",
       "      <td>1992</td>\n",
       "      <td>8.094</td>\n",
       "      <td>NaN</td>\n",
       "    </tr>\n",
       "    <tr>\n",
       "      <th>3</th>\n",
       "      <td>AUS</td>\n",
       "      <td>CROPYIELD</td>\n",
       "      <td>RICE</td>\n",
       "      <td>TONNE_HA</td>\n",
       "      <td>A</td>\n",
       "      <td>1993</td>\n",
       "      <td>8.336</td>\n",
       "      <td>NaN</td>\n",
       "    </tr>\n",
       "    <tr>\n",
       "      <th>4</th>\n",
       "      <td>AUS</td>\n",
       "      <td>CROPYIELD</td>\n",
       "      <td>RICE</td>\n",
       "      <td>TONNE_HA</td>\n",
       "      <td>A</td>\n",
       "      <td>1994</td>\n",
       "      <td>8.538</td>\n",
       "      <td>NaN</td>\n",
       "    </tr>\n",
       "    <tr>\n",
       "      <th>...</th>\n",
       "      <td>...</td>\n",
       "      <td>...</td>\n",
       "      <td>...</td>\n",
       "      <td>...</td>\n",
       "      <td>...</td>\n",
       "      <td>...</td>\n",
       "      <td>...</td>\n",
       "      <td>...</td>\n",
       "    </tr>\n",
       "    <tr>\n",
       "      <th>18589</th>\n",
       "      <td>GBR</td>\n",
       "      <td>CROPYIELD</td>\n",
       "      <td>SOYBEAN</td>\n",
       "      <td>TONNE_HA</td>\n",
       "      <td>A</td>\n",
       "      <td>2026</td>\n",
       "      <td>0.000</td>\n",
       "      <td>NaN</td>\n",
       "    </tr>\n",
       "    <tr>\n",
       "      <th>18590</th>\n",
       "      <td>GBR</td>\n",
       "      <td>CROPYIELD</td>\n",
       "      <td>SOYBEAN</td>\n",
       "      <td>TONNE_HA</td>\n",
       "      <td>A</td>\n",
       "      <td>2027</td>\n",
       "      <td>0.000</td>\n",
       "      <td>NaN</td>\n",
       "    </tr>\n",
       "    <tr>\n",
       "      <th>18591</th>\n",
       "      <td>GBR</td>\n",
       "      <td>CROPYIELD</td>\n",
       "      <td>SOYBEAN</td>\n",
       "      <td>TONNE_HA</td>\n",
       "      <td>A</td>\n",
       "      <td>2028</td>\n",
       "      <td>0.000</td>\n",
       "      <td>NaN</td>\n",
       "    </tr>\n",
       "    <tr>\n",
       "      <th>18592</th>\n",
       "      <td>GBR</td>\n",
       "      <td>CROPYIELD</td>\n",
       "      <td>SOYBEAN</td>\n",
       "      <td>TONNE_HA</td>\n",
       "      <td>A</td>\n",
       "      <td>2029</td>\n",
       "      <td>0.000</td>\n",
       "      <td>NaN</td>\n",
       "    </tr>\n",
       "    <tr>\n",
       "      <th>18593</th>\n",
       "      <td>GBR</td>\n",
       "      <td>CROPYIELD</td>\n",
       "      <td>SOYBEAN</td>\n",
       "      <td>TONNE_HA</td>\n",
       "      <td>A</td>\n",
       "      <td>2030</td>\n",
       "      <td>0.000</td>\n",
       "      <td>NaN</td>\n",
       "    </tr>\n",
       "  </tbody>\n",
       "</table>\n",
       "<p>6212 rows × 8 columns</p>\n",
       "</div>"
      ],
      "text/plain": [
       "      LOCATION  INDICATOR  SUBJECT   MEASURE FREQUENCY  TIME  Value  \\\n",
       "0          AUS  CROPYIELD     RICE  TONNE_HA         A  1990  8.315   \n",
       "1          AUS  CROPYIELD     RICE  TONNE_HA         A  1991  8.395   \n",
       "2          AUS  CROPYIELD     RICE  TONNE_HA         A  1992  8.094   \n",
       "3          AUS  CROPYIELD     RICE  TONNE_HA         A  1993  8.336   \n",
       "4          AUS  CROPYIELD     RICE  TONNE_HA         A  1994  8.538   \n",
       "...        ...        ...      ...       ...       ...   ...    ...   \n",
       "18589      GBR  CROPYIELD  SOYBEAN  TONNE_HA         A  2026  0.000   \n",
       "18590      GBR  CROPYIELD  SOYBEAN  TONNE_HA         A  2027  0.000   \n",
       "18591      GBR  CROPYIELD  SOYBEAN  TONNE_HA         A  2028  0.000   \n",
       "18592      GBR  CROPYIELD  SOYBEAN  TONNE_HA         A  2029  0.000   \n",
       "18593      GBR  CROPYIELD  SOYBEAN  TONNE_HA         A  2030  0.000   \n",
       "\n",
       "       Flag Codes  \n",
       "0             NaN  \n",
       "1             NaN  \n",
       "2             NaN  \n",
       "3             NaN  \n",
       "4             NaN  \n",
       "...           ...  \n",
       "18589         NaN  \n",
       "18590         NaN  \n",
       "18591         NaN  \n",
       "18592         NaN  \n",
       "18593         NaN  \n",
       "\n",
       "[6212 rows x 8 columns]"
      ]
     },
     "execution_count": 82,
     "metadata": {},
     "output_type": "execute_result"
    }
   ],
   "source": [
    "newdata = mydata[mydata[\"MEASURE\"] == 'TONNE_HA']\n",
    "newdata"
   ]
  },
  {
   "cell_type": "markdown",
   "id": "44788f9f-469d-4557-bb97-6896f98a916b",
   "metadata": {},
   "source": [
    "### Problem 4"
   ]
  },
  {
   "cell_type": "code",
   "execution_count": 90,
   "id": "04ec024f-6986-473c-85d4-4e4007f99fb5",
   "metadata": {},
   "outputs": [
    {
     "data": {
      "image/png": "[encoded data removed]",
      "text/plain": [
       "<Figure size 432x288 with 1 Axes>"
      ]
     },
     "metadata": {
      "needs_background": "light"
     },
     "output_type": "display_data"
    }
   ],
   "source": [
    "newdata1= newdata[(newdata['SUBJECT']=='RICE') & (newdata['TIME']==2020)]['Value']\n",
    "plt.boxplot(newdata1)\n",
    "plt.xticks([1], ['Rice'])\n",
    "plt.ylabel('Tonnes per hectare')\n",
    "plt.title('Total Crop Yield of Rice in 2020') \n",
    "plt.show()"
   ]
  },
  {
   "cell_type": "markdown",
   "id": "6e4aee2a-6103-4f55-849a-eb895c8b2920",
   "metadata": {},
   "source": [
    "### Problem 5"
   ]
  },
  {
   "cell_type": "code",
   "execution_count": 101,
   "id": "a23c5000-27be-47b8-a43b-70f1145b1f73",
   "metadata": {},
   "outputs": [
    {
     "data": {
      "text/plain": [
       "30    AUS\n",
       "Name: LOCATION, dtype: object"
      ]
     },
     "execution_count": 101,
     "metadata": {},
     "output_type": "execute_result"
    }
   ],
   "source": [
    "newdata[newdata['Value']==newdata1.max()]['LOCATION']"
   ]
  },
  {
   "cell_type": "markdown",
   "id": "33612f7e-d354-4855-bde2-c24b42dbfca7",
   "metadata": {},
   "source": [
    "### Problem 6"
   ]
  },
  {
   "cell_type": "code",
   "execution_count": 125,
   "id": "e46ead0e-bf2b-4c10-b3ea-152abaea23fa",
   "metadata": {},
   "outputs": [
    {
     "data": {
      "image/png": "[encoded data removed]",
      "text/plain": [
       "<Figure size 432x288 with 1 Axes>"
      ]
     },
     "metadata": {
      "needs_background": "light"
     },
     "output_type": "display_data"
    }
   ],
   "source": [
    "data6=newdata[newdata['LOCATION']=='USA']\n",
    "import seaborn as sns\n",
    "sns.boxplot(data=data6, x='SUBJECT', y='Value', width=0.5)\n",
    "plt.xlabel(\"Kinds of Crop\")\n",
    "plt.ylabel(\"Tonnes per hectare\")\n",
    "plt.title(\"Comparative Boxplot for each Crop in United States\")\n",
    "plt.show()"
   ]
  }
 ],
 "metadata": {
  "kernelspec": {
   "display_name": "Python 3",
   "language": "python",
   "name": "python3"
  },
  "language_info": {
   "codemirror_mode": {
    "name": "ipython",
    "version": 3
   },
   "file_extension": ".py",
   "mimetype": "text/x-python",
   "name": "python",
   "nbconvert_exporter": "python",
   "pygments_lexer": "ipython3",
   "version": "3.11.6"
  }
 },
 "nbformat": 4,
 "nbformat_minor": 5
}
